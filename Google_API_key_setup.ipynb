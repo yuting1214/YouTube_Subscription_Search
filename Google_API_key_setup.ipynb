{
 "cells": [
  {
   "cell_type": "markdown",
   "id": "537cb27d",
   "metadata": {
    "ExecuteTime": {
     "end_time": "2023-10-29T16:00:21.172025Z",
     "start_time": "2023-10-29T16:00:21.165030Z"
    }
   },
   "source": [
    "## Set Up a Google Cloud Project\n",
    "\n",
    "Google Cloud projects are foundational for setting up, activating, and utilizing all Google Cloud services. This includes managing APIs, handling billing, adding or removing team members, and setting permissions for Google Cloud resources.\n",
    "\n",
    "Any interaction with Google Cloud tools is linked to a specific project.\n",
    "\n",
    "The first time you access the [Cloud Console](https://console.cloud.google.com), you'll be asked to establish a new project.\n",
    "\n"
   ]
  },
  {
   "cell_type": "markdown",
   "id": "d619a96c",
   "metadata": {},
   "source": [
    "### Create a [new project](https://console.cloud.google.com/projectcreate?referrer=search)\n",
    "\n",
    "![select billing](./material/setup/google_project.png)"
   ]
  },
  {
   "cell_type": "markdown",
   "id": "8e6ffbe1",
   "metadata": {},
   "source": [
    "### Enable APIs\n",
    "\n",
    "[_Click here_](https://console.cloud.google.com/flows/enableapi?apiid=youtube.googleapis.com)\n",
    "   to **enable the API** in your Google Cloud project:\n",
    "   \n",
    "- _YouTube Data API v3_ \n",
    "\n",
    "\n",
    "Or via [API Library](https://console.cloud.google.com/apis/library?)\n",
    "\n",
    "![Youtube API](./material/setup/youtube_api.png)"
   ]
  },
  {
   "cell_type": "markdown",
   "id": "224ed6f6",
   "metadata": {
    "ExecuteTime": {
     "end_time": "2023-10-29T16:23:38.965685Z",
     "start_time": "2023-10-29T16:23:38.947553Z"
    }
   },
   "source": [
    "### Create a credential for YouTube Data API v3\n",
    "\n",
    "[_Click here_](https://console.cloud.google.com/apis/api/youtube.googleapis.com/) to manage YouTube Data API v3\n"
   ]
  },
  {
   "cell_type": "markdown",
   "id": "b869114d",
   "metadata": {},
   "source": [
    "#### Set up OAuth consent screen\n",
    "\n",
    "* Choose **External** and click **CREATE**\n",
    "\n",
    "![OAuth consent](./material/setup/oauth_consent_1.png)\n",
    "\n",
    "* Edit app regisration\n",
    "\n",
    "![Consent 2](./material/setup/oauth_consent_2.png)\n",
    "\n",
    "Fill\n",
    "1. App name (default: youtube_subscription_search)\n",
    "2. User support email (your gmail\n",
    "3. Developer contact information (your gmail\n",
    "\n",
    "* Other sections\n",
    "\n",
    "![Consent 3](./material/setup/oauth_consent_3.png)\n",
    "\n",
    "Click **Save and Continue**\n"
   ]
  },
  {
   "cell_type": "markdown",
   "id": "51949f79",
   "metadata": {},
   "source": [
    "#### Set up OAuth 2.0 Client IDs\n",
    "\n",
    "![OAuth 2.0 Client IDs 1](./material/setup/oauth_client_id.png)\n",
    "\n",
    "![OAuth 2.0 Client IDs 2](./material/setup/oauth_client_id_2.png)\n",
    "\n",
    "Fill\n",
    "1. Application type (Desktop app\n",
    "2. Name (default: youtube_api"
   ]
  },
  {
   "cell_type": "markdown",
   "id": "71e7171d",
   "metadata": {
    "ExecuteTime": {
     "end_time": "2023-10-29T17:01:13.066302Z",
     "start_time": "2023-10-29T17:01:13.044571Z"
    }
   },
   "source": [
    "## JSON API key\n",
    "\n",
    "* Download OAuth 2.0 Client IDs API key\n",
    "\n",
    "![OAuth 2.0 Client IDs 3](./material/setup/oauth_client_id_3.png)\n",
    "\n",
    "<span style=\"color:red\">Important:</span>\n",
    "\n",
    "* Rename the JSON file with **youtube_credential.json** and place it under the folder of **YouTube_Subscription_Search/API_key**"
   ]
  }
 ],
 "metadata": {
  "kernelspec": {
   "display_name": "Python 3 (ipykernel)",
   "language": "python",
   "name": "python3"
  },
  "language_info": {
   "codemirror_mode": {
    "name": "ipython",
    "version": 3
   },
   "file_extension": ".py",
   "mimetype": "text/x-python",
   "name": "python",
   "nbconvert_exporter": "python",
   "pygments_lexer": "ipython3",
   "version": "3.9.12"
  },
  "toc": {
   "base_numbering": 1,
   "nav_menu": {},
   "number_sections": true,
   "sideBar": true,
   "skip_h1_title": false,
   "title_cell": "Table of Contents",
   "title_sidebar": "Contents",
   "toc_cell": false,
   "toc_position": {},
   "toc_section_display": true,
   "toc_window_display": true
  }
 },
 "nbformat": 4,
 "nbformat_minor": 5
}
